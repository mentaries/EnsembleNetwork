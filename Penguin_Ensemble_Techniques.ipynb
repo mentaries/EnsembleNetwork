{
  "nbformat": 4,
  "nbformat_minor": 0,
  "metadata": {
    "colab": {
      "name": "Penguin_Ensemble_Techniques.ipynb",
      "provenance": []
    },
    "kernelspec": {
      "name": "python3",
      "display_name": "Python 3"
    },
    "language_info": {
      "name": "python"
    }
  },
  "cells": [
    {
      "cell_type": "code",
      "metadata": {
        "id": "UxROtwHikmWv"
      },
      "source": [
        "import pandas as pd\n",
        "import numpy as np\n",
        "import matplotlib.pyplot as plt\n",
        "import math\n",
        "\n",
        "penguin = pd.read_csv(\"penguins.csv\", delimiter = ';')\n",
        "\n",
        "X = penguin.drop(['species', 'island', 'sex'], 1)\n",
        "Y = penguin['species'].values"
      ],
      "execution_count": 190,
      "outputs": []
    },
    {
      "cell_type": "code",
      "metadata": {
        "id": "fFNpViAbkrHf"
      },
      "source": [
        "from sklearn.model_selection import train_test_split\n",
        "train_X, test_X, train_Y, test_Y = train_test_split(X, Y,  test_size = 0.10, random_state=1)"
      ],
      "execution_count": 191,
      "outputs": []
    },
    {
      "cell_type": "code",
      "metadata": {
        "id": "4uzaONLdmxyQ"
      },
      "source": [
        "def e_distance (a, b):\n",
        "  dim = len(a)\n",
        "\n",
        "  distance = 0\n",
        "\n",
        "  for dis in range(dim):\n",
        "     distance += abs(a[dis]-b[dis])**2\n",
        "  \n",
        "  distance = distance**(1/2)\n",
        "\n",
        "  return distance"
      ],
      "execution_count": 192,
      "outputs": []
    },
    {
      "cell_type": "code",
      "metadata": {
        "id": "BUx4QDl_Q_wU"
      },
      "source": [
        "def KNN_Predict(X_train, X_test, y_train, k):\n",
        "    \n",
        "    from collections import Counter\n",
        "\n",
        "    output = []\n",
        "\n",
        "    for p_test in X_test:\n",
        "        data_jarak = []\n",
        "\n",
        "        for p_train in X_train:\n",
        "            jarak = e_distance(p_test, p_train)\n",
        "            data_jarak.append(jarak)\n",
        "        \n",
        "        df_jarak = pd.DataFrame(data=data_jarak, columns=['jarak'])\n",
        "\n",
        "        df_sh = df_jarak.sort_values(by=['jarak'], axis=0)[:k]\n",
        "\n",
        "        counter = Counter(y_train[df_sh.index])\n",
        "\n",
        "        predik = counter.most_common()[0][0]\n",
        "\n",
        "        output.append(predik)\n",
        "        \n",
        "    return output"
      ],
      "execution_count": 193,
      "outputs": []
    },
    {
      "cell_type": "code",
      "metadata": {
        "id": "0p4SFxl66ySO"
      },
      "source": [
        "from sklearn.preprocessing import LabelEncoder as le\n",
        "\n",
        "class MultiColumnLabelEncoder:\n",
        "    def __init__(self,columns = None):\n",
        "        self.columns = columns\n",
        "\n",
        "    def fit(self,X,y=None):\n",
        "        return self\n",
        "\n",
        "    def transform(self,X):\n",
        "        output = X.copy()\n",
        "        if self.columns is not None:\n",
        "            for col in self.columns:\n",
        "                output[col] = le().fit_transform(output[col])\n",
        "        else:\n",
        "            for colname,col in output.iteritems():\n",
        "                output[colname] = le().fit_transform(col)\n",
        "        return output\n",
        "\n",
        "    def fit_transform(self,X,y=None):\n",
        "        return self.fit(X,y).transform(X)"
      ],
      "execution_count": 194,
      "outputs": []
    },
    {
      "cell_type": "markdown",
      "metadata": {
        "id": "X0QbGlKp0JvH"
      },
      "source": [
        "#  K-Nearest Neighbor Method\n"
      ]
    },
    {
      "cell_type": "code",
      "metadata": {
        "id": "PMscf80Pwxul"
      },
      "source": [
        "from sklearn.preprocessing import StandardScaler\n",
        "from sklearn import preprocessing\n",
        "\n",
        "enc = preprocessing.LabelEncoder()\n",
        "scaler = StandardScaler()\n",
        "X_train_sc = scaler.fit_transform(train_X)\n",
        "X_test_sc = scaler.transform(test_X)"
      ],
      "execution_count": 195,
      "outputs": []
    },
    {
      "cell_type": "code",
      "metadata": {
        "colab": {
          "base_uri": "https://localhost:8080/"
        },
        "id": "irsBZfGX1GCO",
        "outputId": "9d441079-1666-4e33-ad63-93fa479da441"
      },
      "source": [
        "pred = KNN_Predict(X_train_sc, X_test_sc, train_Y, k=1)\n",
        "print(pred)"
      ],
      "execution_count": 196,
      "outputs": [
        {
          "output_type": "stream",
          "name": "stdout",
          "text": [
            "['Adelie', 'Chinstrap', 'Gentoo', 'Gentoo', 'Adelie', 'Gentoo', 'Adelie', 'Gentoo', 'Adelie', 'Gentoo', 'Gentoo', 'Adelie', 'Adelie', 'Gentoo', 'Gentoo', 'Gentoo', 'Gentoo', 'Gentoo', 'Adelie', 'Adelie', 'Gentoo', 'Adelie', 'Adelie', 'Adelie', 'Adelie', 'Adelie', 'Chinstrap', 'Adelie', 'Chinstrap', 'Gentoo', 'Gentoo', 'Chinstrap', 'Gentoo', 'Adelie']\n"
          ]
        }
      ]
    },
    {
      "cell_type": "code",
      "metadata": {
        "colab": {
          "base_uri": "https://localhost:8080/",
          "height": 173
        },
        "id": "kHsZ2ipoQRpm",
        "outputId": "db225dc0-52b6-45de-e99f-66f0fce7f136"
      },
      "source": [
        "# Merapikan hasil confusion matrix\n",
        "y_actual = pd.Series(test_Y, name = \"actual\")\n",
        "y_pred = pd.Series(pred, name = \"prediction\")\n",
        "df_confusion = pd.crosstab(y_actual, y_pred)\n",
        "df_confusion"
      ],
      "execution_count": 197,
      "outputs": [
        {
          "output_type": "execute_result",
          "data": {
            "text/html": [
              "<div>\n",
              "<style scoped>\n",
              "    .dataframe tbody tr th:only-of-type {\n",
              "        vertical-align: middle;\n",
              "    }\n",
              "\n",
              "    .dataframe tbody tr th {\n",
              "        vertical-align: top;\n",
              "    }\n",
              "\n",
              "    .dataframe thead th {\n",
              "        text-align: right;\n",
              "    }\n",
              "</style>\n",
              "<table border=\"1\" class=\"dataframe\">\n",
              "  <thead>\n",
              "    <tr style=\"text-align: right;\">\n",
              "      <th>prediction</th>\n",
              "      <th>Adelie</th>\n",
              "      <th>Chinstrap</th>\n",
              "      <th>Gentoo</th>\n",
              "    </tr>\n",
              "    <tr>\n",
              "      <th>actual</th>\n",
              "      <th></th>\n",
              "      <th></th>\n",
              "      <th></th>\n",
              "    </tr>\n",
              "  </thead>\n",
              "  <tbody>\n",
              "    <tr>\n",
              "      <th>Adelie</th>\n",
              "      <td>14</td>\n",
              "      <td>0</td>\n",
              "      <td>0</td>\n",
              "    </tr>\n",
              "    <tr>\n",
              "      <th>Chinstrap</th>\n",
              "      <td>1</td>\n",
              "      <td>4</td>\n",
              "      <td>0</td>\n",
              "    </tr>\n",
              "    <tr>\n",
              "      <th>Gentoo</th>\n",
              "      <td>0</td>\n",
              "      <td>0</td>\n",
              "      <td>15</td>\n",
              "    </tr>\n",
              "  </tbody>\n",
              "</table>\n",
              "</div>"
            ],
            "text/plain": [
              "prediction  Adelie  Chinstrap  Gentoo\n",
              "actual                               \n",
              "Adelie          14          0       0\n",
              "Chinstrap        1          4       0\n",
              "Gentoo           0          0      15"
            ]
          },
          "metadata": {},
          "execution_count": 197
        }
      ]
    },
    {
      "cell_type": "code",
      "metadata": {
        "colab": {
          "base_uri": "https://localhost:8080/"
        },
        "id": "Fr0yOShNMzq7",
        "outputId": "bb8bd87e-42fa-454a-b2a0-f1140dca1169"
      },
      "source": [
        "from sklearn import metrics\n",
        "\n",
        "print(\"Akurasi model: \", metrics.accuracy_score(test_Y, pred)*100, \"%\")\n",
        "print(\"Presisi model: \", metrics.precision_score(test_Y, pred, average=\"micro\")*100, \"%\")\n",
        "print(\"Recall: \", metrics.recall_score(test_Y, pred, average=\"micro\"))\n",
        "print(\"Skor F1: \", metrics.f1_score(test_Y, pred, average=\"micro\"))"
      ],
      "execution_count": 198,
      "outputs": [
        {
          "output_type": "stream",
          "name": "stdout",
          "text": [
            "Akurasi model:  97.05882352941177 %\n",
            "Presisi model:  97.05882352941177 %\n",
            "Recall:  0.9705882352941176\n",
            "Skor F1:  0.9705882352941176\n"
          ]
        }
      ]
    },
    {
      "cell_type": "code",
      "metadata": {
        "colab": {
          "base_uri": "https://localhost:8080/"
        },
        "id": "klgXRDfgOSIi",
        "outputId": "89cf6951-78f0-4168-8f9a-234afa2ff166"
      },
      "source": [
        "print(metrics.classification_report(test_Y, pred))"
      ],
      "execution_count": 199,
      "outputs": [
        {
          "output_type": "stream",
          "name": "stdout",
          "text": [
            "              precision    recall  f1-score   support\n",
            "\n",
            "      Adelie       0.93      1.00      0.97        14\n",
            "   Chinstrap       1.00      0.80      0.89         5\n",
            "      Gentoo       1.00      1.00      1.00        15\n",
            "\n",
            "    accuracy                           0.97        34\n",
            "   macro avg       0.98      0.93      0.95        34\n",
            "weighted avg       0.97      0.97      0.97        34\n",
            "\n"
          ]
        }
      ]
    },
    {
      "cell_type": "markdown",
      "metadata": {
        "id": "rVWMmrIrz1JZ"
      },
      "source": [
        "# Naive Bayes Classifier Method\n"
      ]
    },
    {
      "cell_type": "code",
      "metadata": {
        "colab": {
          "base_uri": "https://localhost:8080/"
        },
        "id": "GZKF9EW3B8H1",
        "outputId": "6fa5fae1-5b3e-4eab-d4fc-caede15b1475"
      },
      "source": [
        "from sklearn.naive_bayes import MultinomialNB\n",
        "\n",
        "mnb = MultinomialNB()\n",
        "mnb.fit(train_X, train_Y)"
      ],
      "execution_count": 200,
      "outputs": [
        {
          "output_type": "execute_result",
          "data": {
            "text/plain": [
              "MultinomialNB()"
            ]
          },
          "metadata": {},
          "execution_count": 200
        }
      ]
    },
    {
      "cell_type": "code",
      "metadata": {
        "colab": {
          "base_uri": "https://localhost:8080/"
        },
        "id": "tAyAVw2QCMjw",
        "outputId": "c7aa3fe6-d12c-4407-eba9-3f6ed8aff311"
      },
      "source": [
        "penguin_test_pred = mnb.predict(test_X)\n",
        "penguin_test_pred"
      ],
      "execution_count": 201,
      "outputs": [
        {
          "output_type": "execute_result",
          "data": {
            "text/plain": [
              "array(['Adelie', 'Chinstrap', 'Gentoo', 'Gentoo', 'Adelie', 'Gentoo',\n",
              "       'Adelie', 'Adelie', 'Adelie', 'Gentoo', 'Gentoo', 'Adelie',\n",
              "       'Chinstrap', 'Gentoo', 'Gentoo', 'Gentoo', 'Gentoo', 'Gentoo',\n",
              "       'Gentoo', 'Adelie', 'Gentoo', 'Adelie', 'Adelie', 'Adelie',\n",
              "       'Adelie', 'Adelie', 'Chinstrap', 'Adelie', 'Chinstrap', 'Gentoo',\n",
              "       'Gentoo', 'Chinstrap', 'Gentoo', 'Gentoo'], dtype='<U9')"
            ]
          },
          "metadata": {},
          "execution_count": 201
        }
      ]
    },
    {
      "cell_type": "code",
      "metadata": {
        "colab": {
          "base_uri": "https://localhost:8080/",
          "height": 173
        },
        "id": "Cmq_fucxE_Q1",
        "outputId": "8c638f44-19f1-464c-d550-60cc72d5954f"
      },
      "source": [
        "b_actual = pd.Series(test_Y, name = \"actual\")\n",
        "b_pred = pd.Series(penguin_test_pred, name = \"prediction\")\n",
        "df_NB_confusion = pd.crosstab(b_actual, b_pred)\n",
        "df_NB_confusion"
      ],
      "execution_count": 202,
      "outputs": [
        {
          "output_type": "execute_result",
          "data": {
            "text/html": [
              "<div>\n",
              "<style scoped>\n",
              "    .dataframe tbody tr th:only-of-type {\n",
              "        vertical-align: middle;\n",
              "    }\n",
              "\n",
              "    .dataframe tbody tr th {\n",
              "        vertical-align: top;\n",
              "    }\n",
              "\n",
              "    .dataframe thead th {\n",
              "        text-align: right;\n",
              "    }\n",
              "</style>\n",
              "<table border=\"1\" class=\"dataframe\">\n",
              "  <thead>\n",
              "    <tr style=\"text-align: right;\">\n",
              "      <th>prediction</th>\n",
              "      <th>Adelie</th>\n",
              "      <th>Chinstrap</th>\n",
              "      <th>Gentoo</th>\n",
              "    </tr>\n",
              "    <tr>\n",
              "      <th>actual</th>\n",
              "      <th></th>\n",
              "      <th></th>\n",
              "      <th></th>\n",
              "    </tr>\n",
              "  </thead>\n",
              "  <tbody>\n",
              "    <tr>\n",
              "      <th>Adelie</th>\n",
              "      <td>11</td>\n",
              "      <td>1</td>\n",
              "      <td>2</td>\n",
              "    </tr>\n",
              "    <tr>\n",
              "      <th>Chinstrap</th>\n",
              "      <td>1</td>\n",
              "      <td>4</td>\n",
              "      <td>0</td>\n",
              "    </tr>\n",
              "    <tr>\n",
              "      <th>Gentoo</th>\n",
              "      <td>1</td>\n",
              "      <td>0</td>\n",
              "      <td>14</td>\n",
              "    </tr>\n",
              "  </tbody>\n",
              "</table>\n",
              "</div>"
            ],
            "text/plain": [
              "prediction  Adelie  Chinstrap  Gentoo\n",
              "actual                               \n",
              "Adelie          11          1       2\n",
              "Chinstrap        1          4       0\n",
              "Gentoo           1          0      14"
            ]
          },
          "metadata": {},
          "execution_count": 202
        }
      ]
    },
    {
      "cell_type": "code",
      "metadata": {
        "colab": {
          "base_uri": "https://localhost:8080/"
        },
        "id": "YWGU27qICelg",
        "outputId": "024929d8-14f2-498c-c027-63445c6ed41c"
      },
      "source": [
        "from sklearn import metrics\n",
        "\n",
        "print(\"Akurasi model: \", metrics.accuracy_score(test_Y, penguin_test_pred)*100, \"%\")\n",
        "print(\"Presisi model: \", metrics.precision_score(test_Y, penguin_test_pred, average=\"micro\")*100, \"%\")\n",
        "print(\"Recall: \", metrics.recall_score(test_Y, penguin_test_pred, average=\"micro\"))\n",
        "print(\"Skor F1: \", metrics.f1_score(test_Y, penguin_test_pred, average=\"micro\"))"
      ],
      "execution_count": 203,
      "outputs": [
        {
          "output_type": "stream",
          "name": "stdout",
          "text": [
            "Akurasi model:  85.29411764705883 %\n",
            "Presisi model:  85.29411764705883 %\n",
            "Recall:  0.8529411764705882\n",
            "Skor F1:  0.8529411764705882\n"
          ]
        }
      ]
    },
    {
      "cell_type": "code",
      "metadata": {
        "colab": {
          "base_uri": "https://localhost:8080/"
        },
        "id": "heLjwSZUW6N0",
        "outputId": "a4d77022-e959-4b5a-860a-68a778d942ed"
      },
      "source": [
        "print(metrics.classification_report(test_Y, penguin_test_pred))"
      ],
      "execution_count": 204,
      "outputs": [
        {
          "output_type": "stream",
          "name": "stdout",
          "text": [
            "              precision    recall  f1-score   support\n",
            "\n",
            "      Adelie       0.85      0.79      0.81        14\n",
            "   Chinstrap       0.80      0.80      0.80         5\n",
            "      Gentoo       0.88      0.93      0.90        15\n",
            "\n",
            "    accuracy                           0.85        34\n",
            "   macro avg       0.84      0.84      0.84        34\n",
            "weighted avg       0.85      0.85      0.85        34\n",
            "\n"
          ]
        }
      ]
    },
    {
      "cell_type": "markdown",
      "metadata": {
        "id": "TQt1ijDtWGP3"
      },
      "source": [
        "# Regression Linear Method"
      ]
    },
    {
      "cell_type": "code",
      "metadata": {
        "id": "MRftogy9WFOP"
      },
      "source": [
        "# Dataset yang diperlukan dalam bentuk numerik sehingga hanya perlu mengambil data dari K-Nearest Neighbor Method\n",
        "\n",
        "I_train = X_train_sc\n",
        "I_test = X_test_sc\n",
        "\n",
        "J_train = train_Y\n",
        "J_test = test_Y"
      ],
      "execution_count": 205,
      "outputs": []
    },
    {
      "cell_type": "code",
      "metadata": {
        "colab": {
          "base_uri": "https://localhost:8080/"
        },
        "id": "yUoneeF0XgLD",
        "outputId": "ff01ca47-723e-4f48-b02e-3052bd764dcc"
      },
      "source": [
        "from sklearn.linear_model import LogisticRegression\n",
        "\n",
        "model = LogisticRegression(solver = 'liblinear')\n",
        "#solver as linear equation\n",
        "model.fit(train_X, train_Y)"
      ],
      "execution_count": 206,
      "outputs": [
        {
          "output_type": "execute_result",
          "data": {
            "text/plain": [
              "LogisticRegression(solver='liblinear')"
            ]
          },
          "metadata": {},
          "execution_count": 206
        }
      ]
    },
    {
      "cell_type": "code",
      "metadata": {
        "colab": {
          "base_uri": "https://localhost:8080/"
        },
        "id": "Pi-wz8hRX7h1",
        "outputId": "1eb513c1-c795-4227-83d7-35bbe1aa1d37"
      },
      "source": [
        "pred_penguin_regression = model.predict(test_X)\n",
        "pred_penguin_regression"
      ],
      "execution_count": 207,
      "outputs": [
        {
          "output_type": "execute_result",
          "data": {
            "text/plain": [
              "array(['Adelie', 'Chinstrap', 'Gentoo', 'Gentoo', 'Chinstrap', 'Gentoo',\n",
              "       'Adelie', 'Gentoo', 'Adelie', 'Gentoo', 'Gentoo', 'Adelie',\n",
              "       'Adelie', 'Gentoo', 'Gentoo', 'Gentoo', 'Gentoo', 'Gentoo',\n",
              "       'Adelie', 'Adelie', 'Gentoo', 'Adelie', 'Adelie', 'Adelie',\n",
              "       'Adelie', 'Adelie', 'Chinstrap', 'Adelie', 'Chinstrap', 'Gentoo',\n",
              "       'Gentoo', 'Chinstrap', 'Gentoo', 'Adelie'], dtype=object)"
            ]
          },
          "metadata": {},
          "execution_count": 207
        }
      ]
    },
    {
      "cell_type": "code",
      "metadata": {
        "colab": {
          "base_uri": "https://localhost:8080/",
          "height": 173
        },
        "id": "VsX6tGVrYnwO",
        "outputId": "766628ee-0102-46d1-d455-695a62e4e720"
      },
      "source": [
        "i_actual = pd.Series(J_test, name = \"actual\")\n",
        "i_pred = pd.Series(pred_penguin_regression, name = \"prediction\")\n",
        "df_RL_confusion = pd.crosstab(i_actual, i_pred)\n",
        "df_RL_confusion"
      ],
      "execution_count": 208,
      "outputs": [
        {
          "output_type": "execute_result",
          "data": {
            "text/html": [
              "<div>\n",
              "<style scoped>\n",
              "    .dataframe tbody tr th:only-of-type {\n",
              "        vertical-align: middle;\n",
              "    }\n",
              "\n",
              "    .dataframe tbody tr th {\n",
              "        vertical-align: top;\n",
              "    }\n",
              "\n",
              "    .dataframe thead th {\n",
              "        text-align: right;\n",
              "    }\n",
              "</style>\n",
              "<table border=\"1\" class=\"dataframe\">\n",
              "  <thead>\n",
              "    <tr style=\"text-align: right;\">\n",
              "      <th>prediction</th>\n",
              "      <th>Adelie</th>\n",
              "      <th>Chinstrap</th>\n",
              "      <th>Gentoo</th>\n",
              "    </tr>\n",
              "    <tr>\n",
              "      <th>actual</th>\n",
              "      <th></th>\n",
              "      <th></th>\n",
              "      <th></th>\n",
              "    </tr>\n",
              "  </thead>\n",
              "  <tbody>\n",
              "    <tr>\n",
              "      <th>Adelie</th>\n",
              "      <td>14</td>\n",
              "      <td>0</td>\n",
              "      <td>0</td>\n",
              "    </tr>\n",
              "    <tr>\n",
              "      <th>Chinstrap</th>\n",
              "      <td>0</td>\n",
              "      <td>5</td>\n",
              "      <td>0</td>\n",
              "    </tr>\n",
              "    <tr>\n",
              "      <th>Gentoo</th>\n",
              "      <td>0</td>\n",
              "      <td>0</td>\n",
              "      <td>15</td>\n",
              "    </tr>\n",
              "  </tbody>\n",
              "</table>\n",
              "</div>"
            ],
            "text/plain": [
              "prediction  Adelie  Chinstrap  Gentoo\n",
              "actual                               \n",
              "Adelie          14          0       0\n",
              "Chinstrap        0          5       0\n",
              "Gentoo           0          0      15"
            ]
          },
          "metadata": {},
          "execution_count": 208
        }
      ]
    },
    {
      "cell_type": "code",
      "metadata": {
        "colab": {
          "base_uri": "https://localhost:8080/"
        },
        "id": "0sVL7sEEZKcc",
        "outputId": "b45edbce-57bb-4fa8-f15b-03d694ee6876"
      },
      "source": [
        "from sklearn import metrics\n",
        "\n",
        "print(\"Akurasi model: \", metrics.accuracy_score(J_test, pred_penguin_regression)*100, \"%\")\n",
        "print(\"Presisi model: \", metrics.precision_score(J_test, pred_penguin_regression, average=\"micro\")*100, \"%\")\n",
        "print(\"Recall: \", metrics.recall_score(J_test, pred_penguin_regression, average=\"micro\"))\n",
        "print(\"Skor F1: \", metrics.f1_score(J_test, pred_penguin_regression, average=\"micro\"))"
      ],
      "execution_count": 209,
      "outputs": [
        {
          "output_type": "stream",
          "name": "stdout",
          "text": [
            "Akurasi model:  100.0 %\n",
            "Presisi model:  100.0 %\n",
            "Recall:  1.0\n",
            "Skor F1:  1.0\n"
          ]
        }
      ]
    },
    {
      "cell_type": "code",
      "metadata": {
        "colab": {
          "base_uri": "https://localhost:8080/"
        },
        "id": "YQkoHC0SaO1S",
        "outputId": "dd20ce1d-6268-4409-b338-ae6132f3fa7e"
      },
      "source": [
        "print(metrics.classification_report(J_test, pred_penguin_regression))"
      ],
      "execution_count": 210,
      "outputs": [
        {
          "output_type": "stream",
          "name": "stdout",
          "text": [
            "              precision    recall  f1-score   support\n",
            "\n",
            "      Adelie       1.00      1.00      1.00        14\n",
            "   Chinstrap       1.00      1.00      1.00         5\n",
            "      Gentoo       1.00      1.00      1.00        15\n",
            "\n",
            "    accuracy                           1.00        34\n",
            "   macro avg       1.00      1.00      1.00        34\n",
            "weighted avg       1.00      1.00      1.00        34\n",
            "\n"
          ]
        }
      ]
    },
    {
      "cell_type": "markdown",
      "metadata": {
        "id": "PsR_O2OLaTe8"
      },
      "source": [
        "# Ensemble Techniques "
      ]
    },
    {
      "cell_type": "code",
      "metadata": {
        "id": "-6cBPAnSkbdY"
      },
      "source": [
        "pred_enc = preprocessing.LabelEncoder()\n",
        "pred_enc.fit_transform(train_Y)\n",
        "\n",
        "knn_pred = pred_enc.transform(pred)\n",
        "nb_pred = pred_enc.transform(penguin_test_pred)\n",
        "lr_pred = pred_enc.transform(pred_penguin_regression)"
      ],
      "execution_count": 211,
      "outputs": []
    },
    {
      "cell_type": "code",
      "metadata": {
        "colab": {
          "base_uri": "https://localhost:8080/"
        },
        "id": "-ToImxAAabu5",
        "outputId": "010e462a-a56c-4e71-d752-d98fa9c50ed9"
      },
      "source": [
        "averaged_preds = (knn_pred + nb_pred + lr_pred)//3\n",
        "averaged_preds = pred_enc.inverse_transform(averaged_preds)\n",
        "\n",
        "acc = metrics.accuracy_score(test_Y, averaged_preds)\n",
        "\n",
        "print(\"Akurasi model: \", metrics.accuracy_score(test_Y, averaged_preds)*100, \"%\")\n",
        "print(\"Presisi model: \", metrics.precision_score(test_Y, averaged_preds, average=\"micro\")*100, \"%\")\n",
        "print(\"Recall: \", metrics.recall_score(test_Y, averaged_preds, average=\"micro\"))\n",
        "print(\"Skor F1: \", metrics.f1_score(test_Y, averaged_preds, average=\"micro\"))"
      ],
      "execution_count": 220,
      "outputs": [
        {
          "output_type": "stream",
          "name": "stdout",
          "text": [
            "Akurasi model:  94.11764705882352 %\n",
            "Presisi model:  94.11764705882352 %\n",
            "Recall:  0.9411764705882353\n",
            "Skor F1:  0.9411764705882353\n"
          ]
        }
      ]
    },
    {
      "cell_type": "code",
      "metadata": {
        "id": "DGkwPQRm1dyM"
      },
      "source": [
        "from sklearn.neighbors import KNeighborsClassifier\n",
        "neigh = KNeighborsClassifier(n_neighbors = 1)\n",
        "knn_pred_fit = neigh.fit(train_X, train_Y)\n",
        "nb_pred_fit = mnb.fit(train_X, train_Y)\n",
        "lr_pred_fit = model.fit(train_X, train_Y)"
      ],
      "execution_count": 213,
      "outputs": []
    },
    {
      "cell_type": "code",
      "metadata": {
        "id": "oTl-ShO-4ro-"
      },
      "source": [
        "from sklearn.metrics import confusion_matrix, accuracy_score, classification_report\n",
        "\n",
        "\n",
        "def evaluate(model, X_train, X_test, y_train, y_test):\n",
        "    y_test_pred = model.predict(X_test)\n",
        "    y_train_pred = model.predict(X_train)\n",
        "\n",
        "    print(\"TRAINIG RESULTS: \\n===============================\")\n",
        "    clf_report = pd.DataFrame(classification_report(y_train, y_train_pred, output_dict=True))\n",
        "    print(f\"CONFUSION MATRIX:\\n{confusion_matrix(y_train, y_train_pred)}\")\n",
        "    print(f\"ACCURACY SCORE:\\n{accuracy_score(y_train, y_train_pred):.4f}\")\n",
        "    print(f\"CLASSIFICATION REPORT:\\n{clf_report}\")\n",
        "\n",
        "    print(\"TESTING RESULTS: \\n===============================\")\n",
        "    clf_report = pd.DataFrame(classification_report(y_test, y_test_pred, output_dict=True))\n",
        "    print(f\"CONFUSION MATRIX:\\n{confusion_matrix(y_test, y_test_pred)}\")\n",
        "    print(f\"ACCURACY SCORE:\\n{accuracy_score(y_test, y_test_pred):.4f}\")\n",
        "    print(f\"CLASSIFICATION REPORT:\\n{clf_report}\")"
      ],
      "execution_count": 215,
      "outputs": []
    },
    {
      "cell_type": "code",
      "metadata": {
        "colab": {
          "base_uri": "https://localhost:8080/"
        },
        "id": "X3K1z96GmnCZ",
        "outputId": "bebee8ba-1c8b-4eaa-8b94-68494845e918"
      },
      "source": [
        "from sklearn.ensemble import VotingClassifier\n",
        "voting_clf = VotingClassifier(estimators=[('KNN', knn_pred_fit), ('NB', nb_pred_fit), ('LR', lr_pred_fit)], voting='hard')\n",
        "voting_clf.fit(train_X, train_Y)\n",
        "voting_preds = voting_clf.predict(test_X)\n",
        "\n",
        "evaluate(voting_clf, train_X, test_X, train_Y, test_Y)"
      ],
      "execution_count": 216,
      "outputs": [
        {
          "output_type": "stream",
          "name": "stdout",
          "text": [
            "TRAINIG RESULTS: \n",
            "===============================\n",
            "CONFUSION MATRIX:\n",
            "[[132   0   0]\n",
            " [  1  62   0]\n",
            " [  0   0 104]]\n",
            "ACCURACY SCORE:\n",
            "0.9967\n",
            "CLASSIFICATION REPORT:\n",
            "               Adelie  Chinstrap  Gentoo  accuracy   macro avg  weighted avg\n",
            "precision    0.992481   1.000000     1.0  0.996656    0.997494      0.996681\n",
            "recall       1.000000   0.984127     1.0  0.996656    0.994709      0.996656\n",
            "f1-score     0.996226   0.992000     1.0  0.996656    0.996075      0.996648\n",
            "support    132.000000  63.000000   104.0  0.996656  299.000000    299.000000\n",
            "TESTING RESULTS: \n",
            "===============================\n",
            "CONFUSION MATRIX:\n",
            "[[14  0  0]\n",
            " [ 1  4  0]\n",
            " [ 0  0 15]]\n",
            "ACCURACY SCORE:\n",
            "0.9706\n",
            "CLASSIFICATION REPORT:\n",
            "              Adelie  Chinstrap  Gentoo  accuracy  macro avg  weighted avg\n",
            "precision   0.933333   1.000000     1.0  0.970588   0.977778      0.972549\n",
            "recall      1.000000   0.800000     1.0  0.970588   0.933333      0.970588\n",
            "f1-score    0.965517   0.888889     1.0  0.970588   0.951469      0.969461\n",
            "support    14.000000   5.000000    15.0  0.970588  34.000000     34.000000\n"
          ]
        }
      ]
    }
  ]
}